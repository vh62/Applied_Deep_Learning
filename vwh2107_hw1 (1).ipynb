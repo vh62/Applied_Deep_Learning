{
  "nbformat": 4,
  "nbformat_minor": 0,
  "metadata": {
    "colab": {
      "name": "vwh2107_hw1.ipynb",
      "provenance": [],
      "collapsed_sections": []
    },
    "kernelspec": {
      "name": "python3",
      "display_name": "Python 3"
    },
    "accelerator": "GPU"
  },
  "cells": [
    {
      "cell_type": "markdown",
      "metadata": {
        "id": "-PZihj-d_tEt",
        "colab_type": "text"
      },
      "source": [
        "**Assignment 1**\n",
        "\n",
        "## About\n",
        "In this assignment, you will gain experience implementing a linear model, a neural network, and a deep neural network using TensorFlow 2.0. \n",
        "\n",
        "* You will use two different development styles. I thought it’d be helpful for you to see both of these early (if you’re familiar with them, you can branch out to any major framework that exist today). \n",
        "\n",
        "* Along the way, you'll add code to visualize the weights of a linear model, and provide your own implementation of softmax (so you learn to extend the built-in functionality right off the bat).\n",
        "\n",
        "This assignment has several parts, plan ahead and get started early (and come to office hours if you’re stuck, the TAs and I are happy to help). Most concepts will be covered in lecture two, just posting it early.\n",
        "\n",
        "## Instructions\n",
        "\n",
        "Complete the code in this notebook by searching for the text **\"TODO\"**.\n",
        "\n",
        "## Submission instructions\n",
        "\n",
        "Please submit this assignment on CourseWorks by uploading a Jupyter notebook that includes saved output. If you are working in Colab, you can prepare your notebook for submission by ensuring that runs end-to-end, then saving and downloading it:\n",
        "\n",
        "1. ```Runtime -> Restart and run all```\n",
        "1. ```File -> Save```\n",
        "1. ```File -> Download.ipynb```\n",
        "\n",
        "## Resources\n",
        "\n",
        "You can find all the latest tutorials for TensorFlow 2.0 [here](https://www.tensorflow.org/tutorials). Code examples that will help you with each part of the assignment are linked below.\n",
        "\n",
        "\n",
        "\n",
        "---\n",
        "\n"
      ]
    },
    {
      "cell_type": "markdown",
      "metadata": {
        "id": "KZ5ssDBBl9n6",
        "colab_type": "text"
      },
      "source": [
        "## Setup"
      ]
    },
    {
      "cell_type": "markdown",
      "metadata": {
        "id": "MDj1_w6v-mYW",
        "colab_type": "text"
      },
      "source": [
        "### Install TensorFlow 2.0\n",
        "\n",
        "If you are running this notebook in Colab, the magic command below will install the most recent version. If you prefer working in Jupyter locally, you will need to install TensorFlow 2.0 on your system, using ```!pip install tensorflow==2.1.0```."
      ]
    },
    {
      "cell_type": "code",
      "metadata": {
        "id": "m1wARst_UkEi",
        "colab_type": "code",
        "outputId": "d0620d5a-f283-49ff-9be3-e45bf663d8ef",
        "colab": {
          "base_uri": "https://localhost:8080/",
          "height": 34
        }
      },
      "source": [
        "%tensorflow_version 2.x"
      ],
      "execution_count": 0,
      "outputs": [
        {
          "output_type": "stream",
          "text": [
            "TensorFlow 2.x selected.\n"
          ],
          "name": "stdout"
        }
      ]
    },
    {
      "cell_type": "markdown",
      "metadata": {
        "id": "QYSALG-y-_7b",
        "colab_type": "text"
      },
      "source": [
        "### Check which TF version is installed\n",
        "TensorFlow 2.0 is currently under development. It's good practice to check which version you have installed. All the code you'll write in this course will be for version 2.0 (currently in beta)."
      ]
    },
    {
      "cell_type": "code",
      "metadata": {
        "id": "21RQ0x71Ut_t",
        "colab_type": "code",
        "outputId": "ef25fa43-92fa-43f2-c549-20ecd39c38db",
        "colab": {
          "base_uri": "https://localhost:8080/",
          "height": 34
        }
      },
      "source": [
        "import tensorflow as tf\n",
        "print(tf.__version__)"
      ],
      "execution_count": 0,
      "outputs": [
        {
          "output_type": "stream",
          "text": [
            "2.1.0\n"
          ],
          "name": "stdout"
        }
      ]
    },
    {
      "cell_type": "code",
      "metadata": {
        "id": "JQPA61YHUvht",
        "colab_type": "code",
        "colab": {}
      },
      "source": [
        "from tensorflow.keras.layers import Dense, Flatten \n",
        "from tensorflow.keras import Model\n",
        "import matplotlib.pyplot as plt"
      ],
      "execution_count": 0,
      "outputs": []
    },
    {
      "cell_type": "markdown",
      "metadata": {
        "id": "9vfWS0eYvzae",
        "colab_type": "text"
      },
      "source": [
        "## Part 1: First steps with Sequential models\n",
        "\n",
        "You will work with the Sequential API in this section. This is the easiest way to develop models with TF 2.0, and is the most common in practice. \n",
        "\n",
        "Here are a few code examples that will help you with this part of the assignment:\n",
        "\n",
        "* [Get started for beginners](https://www.tensorflow.org/tutorials/quickstart/beginner)\n",
        "* [Classify images](https://www.tensorflow.org/tutorials/keras/basic_classification)\n",
        "* [Explore overfitting and underfitting](https://www.tensorflow.org/tutorials/keras/overfit_and_underfit)"
      ]
    },
    {
      "cell_type": "markdown",
      "metadata": {
        "id": "6X5681LTm0jC",
        "colab_type": "text"
      },
      "source": [
        "### Download and prepare a dataset"
      ]
    },
    {
      "cell_type": "code",
      "metadata": {
        "id": "KHL51OKlmwyw",
        "colab_type": "code",
        "colab": {}
      },
      "source": [
        "mnist = tf.keras.datasets.mnist\n",
        "\n",
        "(x_train, y_train), (x_test, y_test) = mnist.load_data()\n",
        "x_train, x_test = x_train / 255.0, x_test / 255.0"
      ],
      "execution_count": 0,
      "outputs": []
    },
    {
      "cell_type": "markdown",
      "metadata": {
        "id": "daw-THC6m4u6",
        "colab_type": "text"
      },
      "source": [
        "### Define, train, and evaluate a linear model"
      ]
    },
    {
      "cell_type": "code",
      "metadata": {
        "id": "MHWcSJEQm8jB",
        "colab_type": "code",
        "outputId": "3f7bea0b-537c-4318-84c6-f0d4d6b9448d",
        "colab": {
          "base_uri": "https://localhost:8080/",
          "height": 238
        }
      },
      "source": [
        "model = tf.keras.models.Sequential([\n",
        "  tf.keras.layers.Flatten(input_shape=(28, 28)),\n",
        "  tf.keras.layers.Dense(10, activation='softmax')\n",
        "])\n",
        "\n",
        "model.compile(optimizer='adam',\n",
        "              loss='sparse_categorical_crossentropy',\n",
        "              metrics=['accuracy'])\n",
        "\n",
        "model.fit(x_train, y_train, epochs=5)\n",
        "model.evaluate(x_test, y_test)"
      ],
      "execution_count": 0,
      "outputs": [
        {
          "output_type": "stream",
          "text": [
            "Train on 60000 samples\n",
            "Epoch 1/5\n",
            "60000/60000 [==============================] - 5s 81us/sample - loss: 0.4701 - accuracy: 0.8788\n",
            "Epoch 2/5\n",
            "60000/60000 [==============================] - 4s 67us/sample - loss: 0.3047 - accuracy: 0.9149\n",
            "Epoch 3/5\n",
            "60000/60000 [==============================] - 4s 68us/sample - loss: 0.2837 - accuracy: 0.9206\n",
            "Epoch 4/5\n",
            "60000/60000 [==============================] - 4s 68us/sample - loss: 0.2734 - accuracy: 0.9234\n",
            "Epoch 5/5\n",
            "60000/60000 [==============================] - 4s 67us/sample - loss: 0.2661 - accuracy: 0.9262\n",
            "10000/10000 [==============================] - 1s 67us/sample - loss: 0.2658 - accuracy: 0.9260\n"
          ],
          "name": "stdout"
        },
        {
          "output_type": "execute_result",
          "data": {
            "text/plain": [
              "[0.26584759540855885, 0.926]"
            ]
          },
          "metadata": {
            "tags": []
          },
          "execution_count": 5
        }
      ]
    },
    {
      "cell_type": "markdown",
      "metadata": {
        "id": "KyLE9HJbwRDp",
        "colab_type": "text"
      },
      "source": [
        "### 1a: Plot loss and accuracy\n",
        "\n",
        "**TODO**\n",
        "\n",
        "Modify the code below to produce plots showing loss and accuracy as a function of epochs on training and validation data (it's fine to use x_test and y_test as validation data for this assignment). To do so, you will need to add validation data to the call for ```model.fit```, and capture the results in a history object. Code for plotting is provided for you, you can pass your history object to this.\n",
        "\n",
        "![Plot 1](https://storage.googleapis.com/applied-dl/im/a1-1.png)\n",
        "![Plot 2](https://storage.googleapis.com/applied-dl/im/a1-2.png)\n"
      ]
    },
    {
      "cell_type": "code",
      "metadata": {
        "id": "xGFjRexynN11",
        "colab_type": "code",
        "outputId": "bba0d8ca-aca7-462b-8f11-09a448c9ad69",
        "colab": {
          "base_uri": "https://localhost:8080/",
          "height": 950
        }
      },
      "source": [
        "model = tf.keras.models.Sequential([\n",
        "  tf.keras.layers.Flatten(input_shape=(28, 28)),\n",
        "  tf.keras.layers.Dense(10, activation='softmax')\n",
        "])\n",
        "\n",
        "model.compile(optimizer='adam',\n",
        "              loss='sparse_categorical_crossentropy',\n",
        "              metrics=['accuracy'])\n",
        "\n",
        "\n",
        "# 1. create a history object to store the results of model.fit\n",
        "# ```history = model.fit(...)```\n",
        "# 2. add another parameter to model.fit for validation data\n",
        "# https://keras.io/models/sequential/\n",
        "history = model.fit(x_train, y_train,validation_data=(x_test,y_test), epochs=10)\n",
        "\n",
        "# A plotting function you can reuse\n",
        "def plot(history):\n",
        "  \n",
        "  # The history object contains results on the training and test\n",
        "  # sets for each epoch\n",
        "  acc = history.history['accuracy']\n",
        "  val_acc = history.history['val_accuracy']\n",
        "  loss = history.history['loss']\n",
        "  val_loss = history.history['val_loss']\n",
        "\n",
        "  # Get the number of epochs\n",
        "  epochs = range(len(acc))\n",
        "\n",
        "  plt.title('Training and validation accuracy')\n",
        "  plt.plot(epochs, acc, color='blue', label='Train')\n",
        "  plt.plot(epochs, val_acc, color='orange', label='Val')\n",
        "  plt.xlabel('Epoch')\n",
        "  plt.ylabel('Accuracy')\n",
        "  plt.legend()\n",
        "\n",
        "  _ = plt.figure()\n",
        "  plt.title('Training and validation loss')\n",
        "  plt.plot(epochs, loss, color='blue', label='Train')\n",
        "  plt.plot(epochs, val_loss, color='orange', label='Val')\n",
        "  plt.xlabel('Epoch')\n",
        "  plt.ylabel('Loss')\n",
        "  plt.legend()\n",
        "  \n",
        "\n",
        "plot(history)"
      ],
      "execution_count": 0,
      "outputs": [
        {
          "output_type": "stream",
          "text": [
            "Train on 60000 samples, validate on 10000 samples\n",
            "Epoch 1/10\n",
            "60000/60000 [==============================] - 5s 81us/sample - loss: 0.4634 - accuracy: 0.8784 - val_loss: 0.3133 - val_accuracy: 0.9147\n",
            "Epoch 2/10\n",
            "60000/60000 [==============================] - 5s 78us/sample - loss: 0.3040 - accuracy: 0.9152 - val_loss: 0.2808 - val_accuracy: 0.9200\n",
            "Epoch 3/10\n",
            "60000/60000 [==============================] - 5s 76us/sample - loss: 0.2833 - accuracy: 0.9211 - val_loss: 0.2724 - val_accuracy: 0.9243\n",
            "Epoch 4/10\n",
            "60000/60000 [==============================] - 4s 74us/sample - loss: 0.2732 - accuracy: 0.9231 - val_loss: 0.2692 - val_accuracy: 0.9245\n",
            "Epoch 5/10\n",
            "60000/60000 [==============================] - 4s 74us/sample - loss: 0.2664 - accuracy: 0.9262 - val_loss: 0.2675 - val_accuracy: 0.9242\n",
            "Epoch 6/10\n",
            "60000/60000 [==============================] - 4s 75us/sample - loss: 0.2616 - accuracy: 0.9271 - val_loss: 0.2697 - val_accuracy: 0.9248\n",
            "Epoch 7/10\n",
            "60000/60000 [==============================] - 5s 75us/sample - loss: 0.2586 - accuracy: 0.9281 - val_loss: 0.2677 - val_accuracy: 0.9248\n",
            "Epoch 8/10\n",
            "60000/60000 [==============================] - 5s 76us/sample - loss: 0.2552 - accuracy: 0.9295 - val_loss: 0.2689 - val_accuracy: 0.9241\n",
            "Epoch 9/10\n",
            "60000/60000 [==============================] - 5s 78us/sample - loss: 0.2531 - accuracy: 0.9298 - val_loss: 0.2658 - val_accuracy: 0.9255\n",
            "Epoch 10/10\n",
            "60000/60000 [==============================] - 5s 76us/sample - loss: 0.2512 - accuracy: 0.9300 - val_loss: 0.2684 - val_accuracy: 0.9278\n"
          ],
          "name": "stdout"
        },
        {
          "output_type": "display_data",
          "data": {
            "image/png": "[encoded data removed]",
            "text/plain": [
              "<Figure size 432x288 with 1 Axes>"
            ]
          },
          "metadata": {
            "tags": []
          }
        },
        {
          "output_type": "display_data",
          "data": {
            "image/png": "[encoded data removed]",
            "text/plain": [
              "<Figure size 432x288 with 1 Axes>"
            ]
          },
          "metadata": {
            "tags": []
          }
        }
      ]
    },
    {
      "cell_type": "markdown",
      "metadata": {
        "id": "4EhrKNT8wfgD",
        "colab_type": "text"
      },
      "source": [
        "### 1b: Implement a neural network \n",
        "\n",
        "**TODO**\n",
        "\n",
        "Modify the code below to create a neural network (with a single hidden layer). Add a Dense layer with 128 units and ReLU activation. Train and evaluate your model. How does the accuracy compare with the linear model above? It is not necessary to produce plots for this section."
      ]
    },
    {
      "cell_type": "code",
      "metadata": {
        "id": "FYUgpSwPq-HF",
        "colab_type": "code",
        "outputId": "50d86884-c04e-47ec-b161-b3f0cb048ae6",
        "colab": {
          "base_uri": "https://localhost:8080/",
          "height": 221
        }
      },
      "source": [
        "model = tf.keras.models.Sequential([\n",
        "  tf.keras.layers.Flatten(input_shape=(28, 28)),\n",
        "  # Modify me\n",
        "  tf.keras.layers.Dense(128,activation=tf.nn.relu),\n",
        "  tf.keras.layers.Dense(10, activation='softmax')\n",
        "])\n",
        "\n",
        "model.compile(optimizer='adam',\n",
        "              loss='sparse_categorical_crossentropy',\n",
        "              metrics=['accuracy'])\n",
        "\n",
        "model.fit(x_train, y_train, epochs=5)"
      ],
      "execution_count": 0,
      "outputs": [
        {
          "output_type": "stream",
          "text": [
            "Train on 60000 samples\n",
            "Epoch 1/5\n",
            "60000/60000 [==============================] - 4s 73us/sample - loss: 0.2576 - accuracy: 0.9270\n",
            "Epoch 2/5\n",
            "60000/60000 [==============================] - 4s 69us/sample - loss: 0.1095 - accuracy: 0.9682\n",
            "Epoch 3/5\n",
            "60000/60000 [==============================] - 4s 69us/sample - loss: 0.0753 - accuracy: 0.9774\n",
            "Epoch 4/5\n",
            "60000/60000 [==============================] - 4s 68us/sample - loss: 0.0561 - accuracy: 0.9831\n",
            "Epoch 5/5\n",
            "60000/60000 [==============================] - 4s 68us/sample - loss: 0.0434 - accuracy: 0.9863\n"
          ],
          "name": "stdout"
        },
        {
          "output_type": "execute_result",
          "data": {
            "text/plain": [
              "<tensorflow.python.keras.callbacks.History at 0x7fdbfa21a320>"
            ]
          },
          "metadata": {
            "tags": []
          },
          "execution_count": 7
        }
      ]
    },
    {
      "cell_type": "markdown",
      "metadata": {
        "id": "dEBxFU8YPsmZ",
        "colab_type": "text"
      },
      "source": [
        "The accuracy is higher than the linear model above. This is because adding more layers increases the model complexity and thus the accuracy to a certain extent, afterwhich we might start overfitting the data."
      ]
    },
    {
      "cell_type": "markdown",
      "metadata": {
        "id": "V18pDvPzwh6l",
        "colab_type": "text"
      },
      "source": [
        "### 1c: Implement a deep neural network \n",
        "\n",
        "**TODO**\n",
        "\n",
        "Modify the code below to create and train a deep neural network with at least two hidden layers."
      ]
    },
    {
      "cell_type": "code",
      "metadata": {
        "id": "K0odgGhmrNNh",
        "colab_type": "code",
        "outputId": "ef21cb8a-81ef-42c1-c34d-7caf2bb1201d",
        "colab": {
          "base_uri": "https://localhost:8080/",
          "height": 221
        }
      },
      "source": [
        "model = tf.keras.models.Sequential([\n",
        "  tf.keras.layers.Flatten(input_shape=(28, 28)),\n",
        "  # Modify me\n",
        "  tf.keras.layers.Dense(128,activation=tf.nn.relu),\n",
        "  tf.keras.layers.Dense(128,activation=tf.nn.relu),\n",
        "  tf.keras.layers.Dense(128,activation=tf.nn.relu),\n",
        "  tf.keras.layers.Dense(10, activation='softmax')\n",
        "])\n",
        "\n",
        "model.compile(optimizer='adam',\n",
        "              loss='sparse_categorical_crossentropy',\n",
        "              metrics=['accuracy'])\n",
        "\n",
        "model.fit(x_train, y_train, epochs=5)"
      ],
      "execution_count": 0,
      "outputs": [
        {
          "output_type": "stream",
          "text": [
            "Train on 60000 samples\n",
            "Epoch 1/5\n",
            "60000/60000 [==============================] - 5s 77us/sample - loss: 0.2263 - accuracy: 0.9314\n",
            "Epoch 2/5\n",
            "60000/60000 [==============================] - 4s 73us/sample - loss: 0.0984 - accuracy: 0.9697\n",
            "Epoch 3/5\n",
            "60000/60000 [==============================] - 4s 73us/sample - loss: 0.0724 - accuracy: 0.9776\n",
            "Epoch 4/5\n",
            "60000/60000 [==============================] - 4s 73us/sample - loss: 0.0569 - accuracy: 0.9815\n",
            "Epoch 5/5\n",
            "60000/60000 [==============================] - 4s 73us/sample - loss: 0.0466 - accuracy: 0.9852\n"
          ],
          "name": "stdout"
        },
        {
          "output_type": "execute_result",
          "data": {
            "text/plain": [
              "<tensorflow.python.keras.callbacks.History at 0x7fdbfa1217f0>"
            ]
          },
          "metadata": {
            "tags": []
          },
          "execution_count": 8
        }
      ]
    },
    {
      "cell_type": "markdown",
      "metadata": {
        "id": "NkmnVGG-wnyw",
        "colab_type": "text"
      },
      "source": [
        "### 1d: Display predictions and their confidence \n",
        "\n",
        "**TODO**\n",
        "\n",
        "1. Choose one of your models above. Use it to make predictions on the entire test set using ```model.predict```\n",
        "\n",
        "2. Next, identify one image from the testing set the model classifies correctly, and another that it classifies incorrectly. Add code to display these images below, the correct labels, the predicted labels, and the confidence scores."
      ]
    },
    {
      "cell_type": "code",
      "metadata": {
        "id": "BPd5NvaV1XEx",
        "colab_type": "code",
        "colab": {}
      },
      "source": [
        "# TODO: add your code here.\n",
        "import numpy as np\n",
        "predictions = model.predict(x_test)\n",
        "predicted_label = np.argmax(predictions, axis =1)\n"
      ],
      "execution_count": 0,
      "outputs": []
    },
    {
      "cell_type": "code",
      "metadata": {
        "id": "R2jphB7J4Qlc",
        "colab_type": "code",
        "outputId": "9cf65450-4198-48d0-aec4-2a843395862b",
        "colab": {
          "base_uri": "https://localhost:8080/",
          "height": 34
        }
      },
      "source": [
        "y_test[8]"
      ],
      "execution_count": 0,
      "outputs": [
        {
          "output_type": "execute_result",
          "data": {
            "text/plain": [
              "5"
            ]
          },
          "metadata": {
            "tags": []
          },
          "execution_count": 10
        }
      ]
    },
    {
      "cell_type": "code",
      "metadata": {
        "id": "B9wTEFOh1bU_",
        "colab_type": "code",
        "outputId": "54ef2634-0561-42dd-8db8-aae72359e599",
        "colab": {
          "base_uri": "https://localhost:8080/",
          "height": 34
        }
      },
      "source": [
        "predicted_label"
      ],
      "execution_count": 0,
      "outputs": [
        {
          "output_type": "execute_result",
          "data": {
            "text/plain": [
              "array([7, 2, 1, ..., 4, 5, 6])"
            ]
          },
          "metadata": {
            "tags": []
          },
          "execution_count": 11
        }
      ]
    },
    {
      "cell_type": "code",
      "metadata": {
        "id": "oLYt_iw3NoAZ",
        "colab_type": "code",
        "outputId": "9950444e-cb05-40f2-c550-efb63c59d298",
        "colab": {
          "base_uri": "https://localhost:8080/",
          "height": 34
        }
      },
      "source": [
        "misclassified = [ind for ind, val in enumerate(y_test != predicted_label) if val == True]\n",
        "misclassified[0]"
      ],
      "execution_count": 0,
      "outputs": [
        {
          "output_type": "execute_result",
          "data": {
            "text/plain": [
              "38"
            ]
          },
          "metadata": {
            "tags": []
          },
          "execution_count": 12
        }
      ]
    },
    {
      "cell_type": "code",
      "metadata": {
        "id": "R1eOcy_mIGiz",
        "colab_type": "code",
        "colab": {}
      },
      "source": [
        "# CODE TO PLOT IS TAKEN FROM THE TENSORFLOW WEBSITE https://www.tensorflow.org/tutorials/keras/classification\n",
        "def plot_image(i, predictions_array, true_label, img):\n",
        "  predictions_array, true_label, img = predictions_array, true_label[i], img[i]\n",
        "  plt.grid(False)\n",
        "  plt.xticks([])\n",
        "  plt.yticks([])\n",
        "\n",
        "  plt.imshow(img, cmap=plt.cm.binary)\n",
        "  predicted_label = np.argmax(predictions_array)\n",
        "  \n",
        "def plot_value_array(i, predictions_array, true_label):\n",
        "  predictions_array, true_label = predictions_array, true_label[i]\n",
        "  plt.grid(False)\n",
        "  plt.xticks(range(10))\n",
        "  plt.yticks([])\n",
        "  thisplot = plt.bar(range(10), predictions_array, color=\"#777777\")\n",
        "  plt.ylim([0, 1])\n",
        "  predicted_label = np.argmax(predictions_array)  \n",
        "\n",
        "  "
      ],
      "execution_count": 0,
      "outputs": []
    },
    {
      "cell_type": "code",
      "metadata": {
        "id": "yUgPU-TYOk0G",
        "colab_type": "code",
        "outputId": "e08ad7d8-c5a9-4ff8-e6ac-57a1c1c7bca3",
        "colab": {
          "base_uri": "https://localhost:8080/",
          "height": 34
        }
      },
      "source": [
        "misclassified = [ind for ind, val in enumerate(y_test != predicted_label) if val == True]\n",
        "classified = [ind for ind, val in enumerate(y_test != predicted_label) if val == False]\n",
        "print(misclassified[0], classified[0])"
      ],
      "execution_count": 0,
      "outputs": [
        {
          "output_type": "stream",
          "text": [
            "38 0\n"
          ],
          "name": "stdout"
        }
      ]
    },
    {
      "cell_type": "code",
      "metadata": {
        "id": "SbuCmfJOIM5L",
        "colab_type": "code",
        "outputId": "3c3ce253-dde2-4c90-8230-b057279608f7",
        "colab": {
          "base_uri": "https://localhost:8080/",
          "height": 292
        }
      },
      "source": [
        "#incorrectly classified\n",
        "confidences = [(i, predictions[i][np.argmax(predictions[i])]) for i in misclassified]\n",
        "# getting the highest confidence score amongst the misclassified images\n",
        "confidences = sorted(confidences,  key= lambda x: x[1], reverse=True)\n",
        "\n",
        "i = confidences[0][0]\n",
        "confidence = confidences[0][1]\n",
        "plt.figure(figsize=(6,3))\n",
        "plt.subplot(1,2,1)\n",
        "plot_image(i, predictions[i], y_test, x_test)\n",
        "plt.subplot(1,2,2)\n",
        "plot_value_array(i, predictions[i],  y_test)\n",
        "#probablity predicted for the digit\n",
        "#confidence = predictions[i][np.argmax(predictions[i])]\n",
        "plt.xlabel(\"confidence score {:.5f}\".format(confidence))\n",
        "plt.title('predicted label')\n",
        "plt.show()\n",
        "print('correct label :', y_test[i])\n",
        "print('predict label :', predicted_label[i])\n",
        "print('confidence score {:.5f}'.format(confidence))"
      ],
      "execution_count": 0,
      "outputs": [
        {
          "output_type": "display_data",
          "data": {
            "image/png": "[encoded data removed]",
            "text/plain": [
              "<Figure size 432x216 with 2 Axes>"
            ]
          },
          "metadata": {
            "tags": []
          }
        },
        {
          "output_type": "stream",
          "text": [
            "correct label : 8\n",
            "predict label : 5\n",
            "confidence score 1.00000\n"
          ],
          "name": "stdout"
        }
      ]
    },
    {
      "cell_type": "code",
      "metadata": {
        "id": "DeheyYu-tn05",
        "colab_type": "code",
        "outputId": "197c3647-70a6-4854-e92d-f5fdc264ff22",
        "colab": {
          "base_uri": "https://localhost:8080/",
          "height": 292
        }
      },
      "source": [
        "#correct classified\n",
        "#i = classified[0]\n",
        "#confidence = predictions[i][np.argmax(predictions[i])]\n",
        "confidences = [(i, predictions[i][np.argmax(predictions[i])]) for i in classified]\n",
        "# getting the lowest confidence score amongst correctly classified images\n",
        "confidences = sorted(confidences,  key= lambda x: x[1])\n",
        "\n",
        "#print(confidences[0])\n",
        "i = confidences[0][0]\n",
        "confidence = confidences[0][1]              \n",
        "plt.figure(figsize=(6,3))\n",
        "plt.subplot(1,2,1)\n",
        "plot_image(i, predictions[i], y_test, x_test)\n",
        "plt.subplot(1,2,2)\n",
        "plt.title('predicted label')\n",
        "plot_value_array(i, predictions[i],  y_test)\n",
        "#probablity predicted for the digit\n",
        "\n",
        "plt.xlabel(\"confidence score {:.2f}%\".format(confidence))\n",
        "plt.show()\n",
        "\n",
        "print('correct label :', y_test[i])\n",
        "print('predict label :', predicted_label[i])\n",
        "print('confidence score {:.5f}'.format(confidence))"
      ],
      "execution_count": 0,
      "outputs": [
        {
          "output_type": "display_data",
          "data": {
            "image/png": "[encoded data removed]",
            "text/plain": [
              "<Figure size 432x216 with 2 Axes>"
            ]
          },
          "metadata": {
            "tags": []
          }
        },
        {
          "output_type": "stream",
          "text": [
            "correct label : 9\n",
            "predict label : 9\n",
            "confidence score 0.35468\n"
          ],
          "name": "stdout"
        }
      ]
    },
    {
      "cell_type": "markdown",
      "metadata": {
        "id": "ca0nFGJdv3H2",
        "colab_type": "text"
      },
      "source": [
        "## Part 2: Subclassed models\n",
        "\n",
        "In this part of the assignment, you'll work with the Keras Subclassing API. Instead of using a built-in method (```model.fit```) you will train models using a GradientTape.\n",
        "\n",
        "Here are a few code examples that will help you with this part of the assignment:\n",
        "\n",
        "* [Get started for experts](https://www.tensorflow.org/tutorials/quickstart/advanced)\n",
        "* [Tensors and operations](https://www.tensorflow.org/tutorials/eager/basics)\n",
        "* [Keras overview](https://www.tensorflow.org/guide/keras/overview)"
      ]
    },
    {
      "cell_type": "markdown",
      "metadata": {
        "id": "xB6r75B5teHv",
        "colab_type": "text"
      },
      "source": [
        "### Download and prepare a dataset\n",
        "This is similar to the above, except now we'll use ```tf.data``` to batch and shuffle the data, instead of the utilities baked into ```model.fit```. It's not necessary for this assignment, but if you wish, you can learn how to use tf.data [here](https://www.tensorflow.org/beta/tutorials/load_data/images)."
      ]
    },
    {
      "cell_type": "code",
      "metadata": {
        "id": "kYbkeJJqtm0h",
        "colab_type": "code",
        "colab": {}
      },
      "source": [
        "# Download a dataset\n",
        "(x_train, y_train), (x_test, y_test) = tf.keras.datasets.mnist.load_data()\n",
        "\n",
        "# Batch and shuffle the data\n",
        "train_ds = tf.data.Dataset.from_tensor_slices(\n",
        "    (x_train.astype('float32') / 255, y_train)).shuffle(1024).batch(32)\n",
        "\n",
        "test_ds = tf.data.Dataset.from_tensor_slices(\n",
        "    (x_test.astype('float32') / 255, y_test)).batch(32)"
      ],
      "execution_count": 0,
      "outputs": []
    },
    {
      "cell_type": "code",
      "metadata": {
        "id": "_JlSs-3qvCgi",
        "colab_type": "code",
        "outputId": "ef1e0e23-b7a7-49c6-8bc7-f83f08b5b3c6",
        "colab": {
          "base_uri": "https://localhost:8080/",
          "height": 282
        }
      },
      "source": [
        "# A quick example of iterating over a dataset object\n",
        "for image, label in train_ds.take(1):\n",
        "  plt.imshow(image[0], plt.get_cmap('gray'))\n",
        "  print(label[0])"
      ],
      "execution_count": 0,
      "outputs": [
        {
          "output_type": "stream",
          "text": [
            "tf.Tensor(4, shape=(), dtype=uint8)\n"
          ],
          "name": "stdout"
        },
        {
          "output_type": "display_data",
          "data": {
            "image/png": "[encoded data removed]",
            "text/plain": [
              "<Figure size 432x288 with 1 Axes>"
            ]
          },
          "metadata": {
            "tags": []
          }
        }
      ]
    },
    {
      "cell_type": "markdown",
      "metadata": {
        "id": "0Nmw1h6stTg5",
        "colab_type": "text"
      },
      "source": [
        "### Define and train a linear model\n",
        "\n",
        "You may see some warnings running the below code (that's okay, just a matter of TF 2.0 being under active development)."
      ]
    },
    {
      "cell_type": "code",
      "metadata": {
        "id": "BWGJoufMtbHA",
        "colab_type": "code",
        "colab": {}
      },
      "source": [
        "class MyLinearModel(Model):\n",
        "  def __init__(self):\n",
        "    super(MyLinearModel, self).__init__()\n",
        "    self.flatten = Flatten()\n",
        "    self.d1 = Dense(10, activation='softmax', name=\"dense1\")\n",
        "\n",
        "  def call(self, x):\n",
        "    x = self.flatten(x)\n",
        "    return self.d1(x)"
      ],
      "execution_count": 0,
      "outputs": []
    },
    {
      "cell_type": "code",
      "metadata": {
        "id": "35tIz37EttdP",
        "colab_type": "code",
        "outputId": "7e68acfe-c175-47e3-91e4-087acbe5ff21",
        "colab": {
          "base_uri": "https://localhost:8080/",
          "height": 102
        }
      },
      "source": [
        "model = MyLinearModel()\n",
        "\n",
        "loss_fn = tf.keras.losses.SparseCategoricalCrossentropy()\n",
        "optimizer = tf.keras.optimizers.SGD()\n",
        "\n",
        "# For each epoch\n",
        "for epoch in range(5):\n",
        "\n",
        "  # For each batch of images and labels\n",
        "  for images, labels in train_ds:\n",
        "\n",
        "    # Open a GradientTape.\n",
        "    with tf.GradientTape() as tape:\n",
        "\n",
        "      # Forward pass\n",
        "      predictions = model(images)\n",
        "\n",
        "      # Calculate loss\n",
        "      loss = loss_fn(labels, predictions)\n",
        "\n",
        "    # Backprop to calculate gradients\n",
        "    gradients = tape.gradient(loss, model.trainable_variables)\n",
        "\n",
        "    # Gradient descent step\n",
        "    optimizer.apply_gradients(zip(gradients, model.trainable_variables))\n",
        "\n",
        "  # Calculate loss on the test data\n",
        "  test_loss = []\n",
        "  for images, labels in test_ds: \n",
        "    predictions = model(images)\n",
        "    loss_on_batch = loss_fn(labels, predictions)\n",
        "    test_loss.append(loss_on_batch)\n",
        "    \n",
        "  print(\"Epoch {}, Test loss: {}\".format(epoch, tf.reduce_mean(test_loss)))"
      ],
      "execution_count": 0,
      "outputs": [
        {
          "output_type": "stream",
          "text": [
            "Epoch 0, Test loss: 0.48071157932281494\n",
            "Epoch 1, Test loss: 0.3997705578804016\n",
            "Epoch 2, Test loss: 0.3667106628417969\n",
            "Epoch 3, Test loss: 0.34770384430885315\n",
            "Epoch 4, Test loss: 0.3352251648902893\n"
          ],
          "name": "stdout"
        }
      ]
    },
    {
      "cell_type": "markdown",
      "metadata": {
        "id": "mEO51Mvi1jOT",
        "colab_type": "text"
      },
      "source": [
        "Note: you may have noticed that the above code runs slowly (it's executing eagerly). Later in this notebook, you will compile your code (to run it in graph mode) using ```@tf.function```. The general workflow is to write your code without using tf.function (as shown above, which makes for easier debugging). Once you've finished debugging your model, you can add ```@tf.function``` for performance if necessary."
      ]
    },
    {
      "cell_type": "markdown",
      "metadata": {
        "id": "dj7Y8JWgwv9Z",
        "colab_type": "text"
      },
      "source": [
        "### 2a: Challenge: Visualize the learned weights\n",
        "\n",
        "We can interpret a linear model by looking at the weights of the fully connected layer. Modify the below code to create a plot similar to the one on slide #50 of lecture 1:\n",
        "\n",
        "![Plot of weights](https://storage.googleapis.com/applied-dl/im/mnist-weights.png)\n",
        "\n",
        "**TODO**\n",
        "\n",
        "Modify the below code to retrieve the learned weights. You can use either the public API of a model ```model.get_layer(name)``` then retrieve the weights from that, or (because our model is defined using the Subclassing API), you can access the dense layer directly ```model.d1```."
      ]
    },
    {
      "cell_type": "code",
      "metadata": {
        "id": "JiQZV03RuWHM",
        "colab_type": "code",
        "outputId": "48d0a21e-3253-4454-b25d-153bb24680d8",
        "colab": {
          "base_uri": "https://localhost:8080/",
          "height": 34
        }
      },
      "source": [
        "# There are two ways to retrieve the weights. You can use the public API\n",
        "# (model.get_layer(name).get_weights()), or, you can access the dense layer \n",
        "# directly (model.dl) then find the accessor method, or again, access the\n",
        "# variable directly.\n",
        "# Python tip: try ```dir(model.d1)```\n",
        "\n",
        "# Modify me\n",
        "weights, bias = model.get_layer('dense1').get_weights() # get the weights # get the weights\n",
        "print(weights.shape)"
      ],
      "execution_count": 0,
      "outputs": [
        {
          "output_type": "stream",
          "text": [
            "(784, 10)\n"
          ],
          "name": "stdout"
        }
      ]
    },
    {
      "cell_type": "code",
      "metadata": {
        "id": "oz3VV2EiuY7X",
        "colab_type": "code",
        "outputId": "bc0b1be4-1237-43a3-872c-93a2350259b3",
        "colab": {
          "base_uri": "https://localhost:8080/",
          "height": 161
        }
      },
      "source": [
        "fig, axs = plt.subplots(1,10, figsize=(20,20))\n",
        "for i in range(10):\n",
        "  subplot = axs[i]\n",
        "  subplot.set_title(i)\n",
        "  subplot.axis('off')\n",
        "  # Modify me\n",
        "  i_weights = weights[:,i] # Select the weights for the i'th output \n",
        "  img = i_weights.reshape(28,28) # Reshape the weights into a 28x28 array\n",
        "  subplot.imshow(img, plt.get_cmap('seismic'))\n",
        "plt.show()"
      ],
      "execution_count": 0,
      "outputs": [
        {
          "output_type": "display_data",
          "data": {
            "image/png": "[encoded data removed]",
            "text/plain": [
              "<Figure size 1440x1440 with 10 Axes>"
            ]
          },
          "metadata": {
            "tags": []
          }
        }
      ]
    },
    {
      "cell_type": "markdown",
      "metadata": {
        "id": "HNBCIqzdw2GS",
        "colab_type": "text"
      },
      "source": [
        "### 2b: Implement a deep neural network\n",
        "\n",
        "**TODO**\n",
        "\n",
        "Modify this code to create a deep neural network. Train your model using the code below, and compare the accuracy to the linear model above. \n",
        "\n",
        "Note: you do not need to modify any sections other than the model definition. \n",
        "\n",
        "The code below uses compiled versions of the training and evaluation loops (remove the ```@tf.function``` annotations if you need to debug)."
      ]
    },
    {
      "cell_type": "code",
      "metadata": {
        "id": "rxoIfq91xDRZ",
        "colab_type": "code",
        "colab": {}
      },
      "source": [
        "class MyDNN(Model):\n",
        "  def __init__(self):\n",
        "    super(MyDNN, self).__init__()\n",
        "    self.flatten = Flatten()\n",
        "    # Modify me\n",
        "    self.dense1 = tf.keras.layers.Dense(10, activation=tf.nn.relu)\n",
        "    self.dense2 = tf.keras.layers.Dense(10, activation=tf.nn.softmax)\n",
        "    self.d1 = Dense(10, activation='softmax')\n",
        "\n",
        "  def call(self, x):\n",
        "    x = self.flatten(x)\n",
        "    x = self.dense1(x)\n",
        "    return self.dense2(x)\n",
        "\n",
        "model = MyDNN()"
      ],
      "execution_count": 0,
      "outputs": []
    },
    {
      "cell_type": "code",
      "metadata": {
        "id": "hVDDq2orxPBR",
        "colab_type": "code",
        "colab": {}
      },
      "source": [
        "loss_object = tf.keras.losses.SparseCategoricalCrossentropy()\n",
        "optimizer = tf.keras.optimizers.Adam()"
      ],
      "execution_count": 0,
      "outputs": []
    },
    {
      "cell_type": "markdown",
      "metadata": {
        "id": "WNC0K6JPxy-g",
        "colab_type": "text"
      },
      "source": [
        "These are helper functions we'll use to record loss and accuracy while your model is trained."
      ]
    },
    {
      "cell_type": "code",
      "metadata": {
        "id": "duYKrACkxRHw",
        "colab_type": "code",
        "colab": {}
      },
      "source": [
        "train_loss = tf.keras.metrics.Mean(name='train_loss')\n",
        "train_accuracy = tf.keras.metrics.SparseCategoricalAccuracy(name='train_accuracy')\n",
        "\n",
        "test_loss = tf.keras.metrics.Mean(name='test_loss')\n",
        "test_accuracy = tf.keras.metrics.SparseCategoricalAccuracy(name='test_accuracy')"
      ],
      "execution_count": 0,
      "outputs": []
    },
    {
      "cell_type": "markdown",
      "metadata": {
        "id": "C_oUQki5x0lD",
        "colab_type": "text"
      },
      "source": [
        "This method trains the model on a batch of data."
      ]
    },
    {
      "cell_type": "code",
      "metadata": {
        "id": "yTQAnrOAxUAu",
        "colab_type": "code",
        "colab": {}
      },
      "source": [
        "@tf.function\n",
        "def train_step(images, labels):\n",
        "  with tf.GradientTape() as tape:\n",
        "    predictions = model(images)\n",
        "    loss = loss_object(labels, predictions)\n",
        "  gradients = tape.gradient(loss, model.trainable_variables)\n",
        "  optimizer.apply_gradients(zip(gradients, model.trainable_variables))\n",
        "\n",
        "  train_loss(loss)\n",
        "  train_accuracy(labels, predictions)"
      ],
      "execution_count": 0,
      "outputs": []
    },
    {
      "cell_type": "markdown",
      "metadata": {
        "id": "-lUJFkfux44o",
        "colab_type": "text"
      },
      "source": [
        "This method evaluates the model on a batch of data."
      ]
    },
    {
      "cell_type": "code",
      "metadata": {
        "id": "BTMp9PwZxV5h",
        "colab_type": "code",
        "colab": {}
      },
      "source": [
        "@tf.function\n",
        "def test_step(images, labels):\n",
        "  predictions = model(images)\n",
        "  t_loss = loss_object(labels, predictions)\n",
        "\n",
        "  test_loss(t_loss)\n",
        "  test_accuracy(labels, predictions)"
      ],
      "execution_count": 0,
      "outputs": []
    },
    {
      "cell_type": "markdown",
      "metadata": {
        "id": "AR0_bNd-x6OE",
        "colab_type": "text"
      },
      "source": [
        "Training and evaluation loop."
      ]
    },
    {
      "cell_type": "code",
      "metadata": {
        "id": "enHqlaCfxXq3",
        "colab_type": "code",
        "outputId": "8fe1fd5e-3c52-4f59-dd2a-f324c63a6dcf",
        "colab": {
          "base_uri": "https://localhost:8080/",
          "height": 122
        }
      },
      "source": [
        "EPOCHS = 5\n",
        "\n",
        "for epoch in range(EPOCHS):\n",
        "  for images, labels in train_ds:\n",
        "    train_step(images, labels)\n",
        "\n",
        "  for test_images, test_labels in test_ds:\n",
        "    test_step(test_images, test_labels)\n",
        "\n",
        "  template = 'Epoch {}, Loss: {}, Accuracy: {}, Test Loss: {}, Test Accuracy: {}'\n",
        "  print(template.format(epoch+1,\n",
        "                        train_loss.result(),\n",
        "                        train_accuracy.result()*100,\n",
        "                        test_loss.result(),\n",
        "                        test_accuracy.result()*100))\n",
        "\n",
        "  # Reset the metrics for the next epoch\n",
        "  train_loss.reset_states()\n",
        "  train_accuracy.reset_states()\n",
        "  test_loss.reset_states()\n",
        "  test_accuracy.reset_states()"
      ],
      "execution_count": 0,
      "outputs": [
        {
          "output_type": "stream",
          "text": [
            "Epoch 1, Loss: 0.5309370160102844, Accuracy: 85.25833129882812, Test Loss: 0.30874380469322205, Test Accuracy: 90.95999908447266\n",
            "Epoch 2, Loss: 0.29803597927093506, Accuracy: 91.5199966430664, Test Loss: 0.27780410647392273, Test Accuracy: 91.90999603271484\n",
            "Epoch 3, Loss: 0.27419722080230713, Accuracy: 92.32333374023438, Test Loss: 0.27065324783325195, Test Accuracy: 92.25999450683594\n",
            "Epoch 4, Loss: 0.26095741987228394, Accuracy: 92.72999572753906, Test Loss: 0.2656506597995758, Test Accuracy: 92.31999969482422\n",
            "Epoch 5, Loss: 0.2516043186187744, Accuracy: 92.92666625976562, Test Loss: 0.257610946893692, Test Accuracy: 92.61000061035156\n"
          ],
          "name": "stdout"
        }
      ]
    },
    {
      "cell_type": "markdown",
      "metadata": {
        "id": "ZxjIFiyBPorB",
        "colab_type": "text"
      },
      "source": [
        "### 2c: Provide your own implementation of softmax and use it to train a model\n",
        "\n",
        "In your linear model above, the starter code looked similar to: \n",
        "\n",
        "\n",
        "```\n",
        "class LinearModel(Model):\n",
        "  def __init__(self):\n",
        "    super(LinearModel, self).__init__()\n",
        "    self.flatten = Flatten()\n",
        "    self.d1 = Dense(10, activation='softmax')\n",
        "\n",
        "  def call(self, x):\n",
        "    x = self.flatten(x)\n",
        "    return self.d1(x)\n",
        "``` \n",
        "\n",
        "Now, create a function:\n",
        "\n",
        "\n",
        "```\n",
        "def my_softmax(logits):\n",
        "  # ...\n",
        "```\n",
        "\n",
        "and use it in your model as follows:\n",
        "\n",
        "\n",
        "```\n",
        "class LinearModel(Model):\n",
        "  def __init__(self):\n",
        "    super(LinearModel, self).__init__()\n",
        "    self.flatten = Flatten()\n",
        "    self.d1 = Dense(10)\n",
        "\n",
        "  def call(self, x):\n",
        "    x = self.flatten(x)\n",
        "    x = self.d1(x)\n",
        "    return my_softmax(x)\n",
        "``` \n",
        "\n",
        "Notice, we've removed the built-in activation method on the Dense layer, and added our own to the call method.\n",
        "\n",
        "Tip: You can implement softmax first using NumPy, if you like, the gradually convert your code to use TensorFlow ops (which begin with tf.\\* instead of np.\\*).\n",
        "\n",
        "Notes: \n",
        "\n",
        "- Your softmax implementation should be numerically stable. \n",
        "- You will need to use tf.* ops in order to use your code to train a model (TF cannot backprop through NumPy operations)."
      ]
    },
    {
      "cell_type": "code",
      "metadata": {
        "id": "SiLj-uFrRAn-",
        "colab_type": "code",
        "outputId": "8f870f28-abbd-4d5c-ce63-782b66cc3d80",
        "colab": {
          "base_uri": "https://localhost:8080/",
          "height": 238
        }
      },
      "source": [
        "# TODO: your code here\n",
        "\n",
        "def my_softmax(x):  \n",
        "  # Modify me\n",
        "  x_max = tf.reduce_max(x, axis=[1])\n",
        "  x_max = tf.expand_dims(x_max,axis=1)   \n",
        "  exponentials = tf.math.exp(x-x_max)\n",
        "  #the input x is a batch x 10 \n",
        "  #want to normalize for the dimension =1 -> \"10\"\n",
        "  sum_exponentials = tf.math.reduce_sum(x, axis=[1])\n",
        "  sum_exponentials = tf.expand_dims(sum_exponentials,axis=1) \n",
        "  #print(sum_exponentials.shape)\n",
        "  sum_exponentials = tf.repeat(sum_exponentials, repeats=x.shape[1], axis=1)\n",
        "  result = exponentials / sum_exponentials\n",
        "  return result\n",
        "\n",
        "class MyModel(Model):\n",
        "  def __init__(self):\n",
        "    super(MyModel, self).__init__()\n",
        "    self.flatten = Flatten()\n",
        "    self.d1 = Dense(10)\n",
        "\n",
        "  def call(self, x):\n",
        "    x = self.flatten(x)\n",
        "    x = self.d1(x)\n",
        "    return my_softmax(x)\n",
        "\n",
        "model = MyModel()\n",
        "model.compile(optimizer='adam',\n",
        "              loss='sparse_categorical_crossentropy',\n",
        "              metrics=['accuracy'])\n",
        "# TODO\n",
        "# Add code to train you model, your accuracy should be similar \n",
        "# to the linear model\n",
        "model.fit(x_train, y_train, epochs=5, batch_size = None)\n",
        "model.evaluate(x_test, y_test)\n",
        "# TODO\n",
        "# Add code to train you model, your accuracy should be similar \n",
        "# to the linear model."
      ],
      "execution_count": 0,
      "outputs": [
        {
          "output_type": "stream",
          "text": [
            "Train on 60000 samples\n",
            "Epoch 1/5\n",
            "60000/60000 [==============================] - 5s 76us/sample - loss: 3.0348 - accuracy: 0.6029\n",
            "Epoch 2/5\n",
            "60000/60000 [==============================] - 4s 67us/sample - loss: 1.7435 - accuracy: 0.7580\n",
            "Epoch 3/5\n",
            "60000/60000 [==============================] - 4s 68us/sample - loss: 1.5303 - accuracy: 0.7822\n",
            "Epoch 4/5\n",
            "60000/60000 [==============================] - 4s 72us/sample - loss: 1.3735 - accuracy: 0.8001\n",
            "Epoch 5/5\n",
            "60000/60000 [==============================] - 5s 78us/sample - loss: 1.0399 - accuracy: 0.8464\n",
            "10000/10000 [==============================] - 1s 74us/sample - loss: 0.8331 - accuracy: 0.8772\n"
          ],
          "name": "stdout"
        },
        {
          "output_type": "execute_result",
          "data": {
            "text/plain": [
              "[0.8330582148998976, 0.8772]"
            ]
          },
          "metadata": {
            "tags": []
          },
          "execution_count": 29
        }
      ]
    },
    {
      "cell_type": "markdown",
      "metadata": {
        "id": "-nyUaOJ_HOQQ",
        "colab_type": "text"
      },
      "source": [
        "# End of Project"
      ]
    },
    {
      "cell_type": "code",
      "metadata": {
        "id": "tpMgC2sSHRX1",
        "colab_type": "code",
        "colab": {}
      },
      "source": [
        ""
      ],
      "execution_count": 0,
      "outputs": []
    }
  ]
}